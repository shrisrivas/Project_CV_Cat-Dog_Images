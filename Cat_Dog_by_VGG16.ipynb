{
  "cells": [
    {
      "cell_type": "markdown",
      "metadata": {
        "id": "view-in-github",
        "colab_type": "text"
      },
      "source": [
        "<a href=\"https://colab.research.google.com/github/shrisrivas/Project_CV_Cat-Dog_Images/blob/main/Cat_Dog_by_VGG16.ipynb\" target=\"_parent\"><img src=\"https://colab.research.google.com/assets/colab-badge.svg\" alt=\"Open In Colab\"/></a>"
      ]
    },
    {
      "cell_type": "markdown",
      "metadata": {
        "id": "G_On-uhGoQo_"
      },
      "source": [
        "## Transfer Learning VGG 16 using Keras"
      ]
    },
    {
      "cell_type": "code",
      "execution_count": 56,
      "metadata": {
        "colab": {
          "base_uri": "https://localhost:8080/"
        },
        "id": "COCzcPGroQpC",
        "outputId": "28b52885-25db-4217-8e4a-e71e07159ac6"
      },
      "outputs": [
        {
          "output_type": "stream",
          "name": "stdout",
          "text": [
            "Mon Mar 13 12:27:31 2023       \n",
            "+-----------------------------------------------------------------------------+\n",
            "| NVIDIA-SMI 525.85.12    Driver Version: 525.85.12    CUDA Version: 12.0     |\n",
            "|-------------------------------+----------------------+----------------------+\n",
            "| GPU  Name        Persistence-M| Bus-Id        Disp.A | Volatile Uncorr. ECC |\n",
            "| Fan  Temp  Perf  Pwr:Usage/Cap|         Memory-Usage | GPU-Util  Compute M. |\n",
            "|                               |                      |               MIG M. |\n",
            "|===============================+======================+======================|\n",
            "|   0  Tesla T4            Off  | 00000000:00:04.0 Off |                    0 |\n",
            "| N/A   72C    P0    31W /  70W |    587MiB / 15360MiB |      0%      Default |\n",
            "|                               |                      |                  N/A |\n",
            "+-------------------------------+----------------------+----------------------+\n",
            "                                                                               \n",
            "+-----------------------------------------------------------------------------+\n",
            "| Processes:                                                                  |\n",
            "|  GPU   GI   CI        PID   Type   Process name                  GPU Memory |\n",
            "|        ID   ID                                                   Usage      |\n",
            "|=============================================================================|\n",
            "+-----------------------------------------------------------------------------+\n"
          ]
        }
      ],
      "source": [
        "!nvidia-smi"
      ]
    },
    {
      "cell_type": "code",
      "execution_count": 57,
      "metadata": {
        "colab": {
          "base_uri": "https://localhost:8080/"
        },
        "id": "YcHqtmlxoQpD",
        "outputId": "8dc5ee04-3055-48eb-d9af-f396016db450"
      },
      "outputs": [
        {
          "output_type": "stream",
          "name": "stdout",
          "text": [
            "2.11.0\n"
          ]
        }
      ],
      "source": [
        "import tensorflow as tf\n",
        "print(tf.__version__)"
      ]
    },
    {
      "cell_type": "code",
      "execution_count": 58,
      "metadata": {
        "id": "CbJjhNbzoQpE"
      },
      "outputs": [],
      "source": [
        "# import the libraries as shown below\n",
        "\n",
        "from tensorflow.keras.layers import Input, Lambda, Dense, Flatten\n",
        "from tensorflow.keras.models import Model\n",
        "from tensorflow.keras.applications.vgg16 import VGG16\n",
        "from tensorflow.keras.preprocessing import image\n",
        "from tensorflow.keras.preprocessing.image import ImageDataGenerator,load_img\n",
        "from tensorflow.keras.models import Sequential\n",
        "import numpy as np\n",
        "from glob import glob"
      ]
    },
    {
      "cell_type": "code",
      "source": [
        "from google.colab import drive\n",
        "drive.mount('/content/drive')"
      ],
      "metadata": {
        "colab": {
          "base_uri": "https://localhost:8080/"
        },
        "id": "2HOVb0wfuUdI",
        "outputId": "c3bf6df5-b0df-4d92-d419-3d32ae5706b5"
      },
      "execution_count": 59,
      "outputs": [
        {
          "output_type": "stream",
          "name": "stdout",
          "text": [
            "Drive already mounted at /content/drive; to attempt to forcibly remount, call drive.mount(\"/content/drive\", force_remount=True).\n"
          ]
        }
      ]
    },
    {
      "cell_type": "code",
      "source": [
        "ROOT_PATH = '/content/drive/MyDrive/project_catdog'"
      ],
      "metadata": {
        "id": "LSscBP_Nul3k"
      },
      "execution_count": 60,
      "outputs": []
    },
    {
      "cell_type": "code",
      "source": [
        "!pwd"
      ],
      "metadata": {
        "colab": {
          "base_uri": "https://localhost:8080/"
        },
        "id": "e1jhD1joXxNH",
        "outputId": "b77af935-8b66-489a-f875-db8148954195"
      },
      "execution_count": 61,
      "outputs": [
        {
          "output_type": "stream",
          "name": "stdout",
          "text": [
            "/content/drive/My Drive/project_catdog\n"
          ]
        }
      ]
    },
    {
      "cell_type": "code",
      "source": [
        "import os\n",
        "os.chdir(ROOT_PATH)\n",
        "os.getcwd()"
      ],
      "metadata": {
        "colab": {
          "base_uri": "https://localhost:8080/",
          "height": 35
        },
        "id": "UmIsJIoTu1Nv",
        "outputId": "7f9fae33-71fa-470c-f42c-2878d1cc0055"
      },
      "execution_count": 62,
      "outputs": [
        {
          "output_type": "execute_result",
          "data": {
            "text/plain": [
              "'/content/drive/MyDrive/project_catdog'"
            ],
            "application/vnd.google.colaboratory.intrinsic+json": {
              "type": "string"
            }
          },
          "metadata": {},
          "execution_count": 62
        }
      ]
    },
    {
      "cell_type": "code",
      "source": [
        "!ls"
      ],
      "metadata": {
        "colab": {
          "base_uri": "https://localhost:8080/"
        },
        "id": "tdTuQySNycSg",
        "outputId": "5ab2640c-90ef-43c8-c375-cbfe792fd8b1"
      },
      "execution_count": 63,
      "outputs": [
        {
          "output_type": "stream",
          "name": "stdout",
          "text": [
            "train  validation\n"
          ]
        }
      ]
    },
    {
      "cell_type": "code",
      "execution_count": 64,
      "metadata": {
        "id": "JJRs9wzsoQpE"
      },
      "outputs": [],
      "source": [
        "# re-size all the images to this\n",
        "IMAGE_SIZE = [224, 224]\n",
        "\n",
        "train_path = 'project_catdog/train'\n",
        "valid_path = 'project_catdog/validation'\n"
      ]
    },
    {
      "cell_type": "code",
      "execution_count": 65,
      "metadata": {
        "id": "5FOgov0ooQpE"
      },
      "outputs": [],
      "source": [
        "# Import the VGG16 library as shown below and add preprocessing layer to the front of VGG\n",
        "# Here we will be using imagenet weights\n",
        "\n",
        "vgg16 = VGG16(input_shape=IMAGE_SIZE + [3], weights='imagenet', include_top=False)\n"
      ]
    },
    {
      "cell_type": "code",
      "source": [
        "# don't train existing weights\n",
        "for layer in vgg16.layers:\n",
        "  print(layer)"
      ],
      "metadata": {
        "colab": {
          "base_uri": "https://localhost:8080/"
        },
        "id": "hgy8jszDZI1E",
        "outputId": "842a3b89-2ca2-4e81-fe6c-1cda0ff2a251"
      },
      "execution_count": 66,
      "outputs": [
        {
          "output_type": "stream",
          "name": "stdout",
          "text": [
            "<keras.engine.input_layer.InputLayer object at 0x7f45fc0a0fa0>\n",
            "<keras.layers.convolutional.conv2d.Conv2D object at 0x7f45fc0a0be0>\n",
            "<keras.layers.convolutional.conv2d.Conv2D object at 0x7f45fc0a0ca0>\n",
            "<keras.layers.pooling.max_pooling2d.MaxPooling2D object at 0x7f45fc0c2ca0>\n",
            "<keras.layers.convolutional.conv2d.Conv2D object at 0x7f45fc0cb0d0>\n",
            "<keras.layers.convolutional.conv2d.Conv2D object at 0x7f4591353700>\n",
            "<keras.layers.pooling.max_pooling2d.MaxPooling2D object at 0x7f4591353370>\n",
            "<keras.layers.convolutional.conv2d.Conv2D object at 0x7f4591346e20>\n",
            "<keras.layers.convolutional.conv2d.Conv2D object at 0x7f459135c820>\n",
            "<keras.layers.convolutional.conv2d.Conv2D object at 0x7f4591360490>\n",
            "<keras.layers.pooling.max_pooling2d.MaxPooling2D object at 0x7f46100667c0>\n",
            "<keras.layers.convolutional.conv2d.Conv2D object at 0x7f4591360dc0>\n",
            "<keras.layers.convolutional.conv2d.Conv2D object at 0x7f46195eb700>\n",
            "<keras.layers.convolutional.conv2d.Conv2D object at 0x7f4591366d90>\n",
            "<keras.layers.pooling.max_pooling2d.MaxPooling2D object at 0x7f45912ff070>\n",
            "<keras.layers.convolutional.conv2d.Conv2D object at 0x7f45912ffdf0>\n",
            "<keras.layers.convolutional.conv2d.Conv2D object at 0x7f45912ffac0>\n",
            "<keras.layers.convolutional.conv2d.Conv2D object at 0x7f45913063d0>\n",
            "<keras.layers.pooling.max_pooling2d.MaxPooling2D object at 0x7f4591309cd0>\n"
          ]
        }
      ]
    },
    {
      "cell_type": "code",
      "execution_count": 67,
      "metadata": {
        "id": "Rx7AkOQIoQpF"
      },
      "outputs": [],
      "source": [
        "# don't train existing weights\n",
        "for layer in vgg16.layers:\n",
        "    layer.trainable = False"
      ]
    },
    {
      "cell_type": "code",
      "source": [
        "for layer in vgg16.layers:\n",
        "  print(layer.name,layer.trainable)"
      ],
      "metadata": {
        "colab": {
          "base_uri": "https://localhost:8080/"
        },
        "id": "wNtlHqA8pyBx",
        "outputId": "9ca1632a-9fa2-4f3a-e100-d7c40aded234"
      },
      "execution_count": 68,
      "outputs": [
        {
          "output_type": "stream",
          "name": "stdout",
          "text": [
            "input_3 False\n",
            "block1_conv1 False\n",
            "block1_conv2 False\n",
            "block1_pool False\n",
            "block2_conv1 False\n",
            "block2_conv2 False\n",
            "block2_pool False\n",
            "block3_conv1 False\n",
            "block3_conv2 False\n",
            "block3_conv3 False\n",
            "block3_pool False\n",
            "block4_conv1 False\n",
            "block4_conv2 False\n",
            "block4_conv3 False\n",
            "block4_pool False\n",
            "block5_conv1 False\n",
            "block5_conv2 False\n",
            "block5_conv3 False\n",
            "block5_pool False\n"
          ]
        }
      ]
    },
    {
      "cell_type": "code",
      "source": [
        "vgg16.summary()"
      ],
      "metadata": {
        "id": "5WBu-g3rqIcw",
        "outputId": "cac4b34e-7d23-455c-c8c1-e44d8004800c",
        "colab": {
          "base_uri": "https://localhost:8080/"
        }
      },
      "execution_count": 69,
      "outputs": [
        {
          "output_type": "stream",
          "name": "stdout",
          "text": [
            "Model: \"vgg16\"\n",
            "_________________________________________________________________\n",
            " Layer (type)                Output Shape              Param #   \n",
            "=================================================================\n",
            " input_3 (InputLayer)        [(None, 224, 224, 3)]     0         \n",
            "                                                                 \n",
            " block1_conv1 (Conv2D)       (None, 224, 224, 64)      1792      \n",
            "                                                                 \n",
            " block1_conv2 (Conv2D)       (None, 224, 224, 64)      36928     \n",
            "                                                                 \n",
            " block1_pool (MaxPooling2D)  (None, 112, 112, 64)      0         \n",
            "                                                                 \n",
            " block2_conv1 (Conv2D)       (None, 112, 112, 128)     73856     \n",
            "                                                                 \n",
            " block2_conv2 (Conv2D)       (None, 112, 112, 128)     147584    \n",
            "                                                                 \n",
            " block2_pool (MaxPooling2D)  (None, 56, 56, 128)       0         \n",
            "                                                                 \n",
            " block3_conv1 (Conv2D)       (None, 56, 56, 256)       295168    \n",
            "                                                                 \n",
            " block3_conv2 (Conv2D)       (None, 56, 56, 256)       590080    \n",
            "                                                                 \n",
            " block3_conv3 (Conv2D)       (None, 56, 56, 256)       590080    \n",
            "                                                                 \n",
            " block3_pool (MaxPooling2D)  (None, 28, 28, 256)       0         \n",
            "                                                                 \n",
            " block4_conv1 (Conv2D)       (None, 28, 28, 512)       1180160   \n",
            "                                                                 \n",
            " block4_conv2 (Conv2D)       (None, 28, 28, 512)       2359808   \n",
            "                                                                 \n",
            " block4_conv3 (Conv2D)       (None, 28, 28, 512)       2359808   \n",
            "                                                                 \n",
            " block4_pool (MaxPooling2D)  (None, 14, 14, 512)       0         \n",
            "                                                                 \n",
            " block5_conv1 (Conv2D)       (None, 14, 14, 512)       2359808   \n",
            "                                                                 \n",
            " block5_conv2 (Conv2D)       (None, 14, 14, 512)       2359808   \n",
            "                                                                 \n",
            " block5_conv3 (Conv2D)       (None, 14, 14, 512)       2359808   \n",
            "                                                                 \n",
            " block5_pool (MaxPooling2D)  (None, 7, 7, 512)         0         \n",
            "                                                                 \n",
            "=================================================================\n",
            "Total params: 14,714,688\n",
            "Trainable params: 0\n",
            "Non-trainable params: 14,714,688\n",
            "_________________________________________________________________\n"
          ]
        }
      ]
    },
    {
      "cell_type": "code",
      "execution_count": 70,
      "metadata": {
        "id": "N5TBzMtLoQpF"
      },
      "outputs": [],
      "source": [
        "  # useful for getting number of output classes\n",
        "folder = glob('train/*')"
      ]
    },
    {
      "cell_type": "code",
      "execution_count": 71,
      "metadata": {
        "colab": {
          "base_uri": "https://localhost:8080/"
        },
        "id": "mEAc82BQoQpF",
        "outputId": "1bf2bdaf-4a73-41ae-cbe5-8d0e4a0dde86"
      },
      "outputs": [
        {
          "output_type": "execute_result",
          "data": {
            "text/plain": [
              "['train/Dog', 'train/Cat']"
            ]
          },
          "metadata": {},
          "execution_count": 71
        }
      ],
      "source": [
        "folder"
      ]
    },
    {
      "cell_type": "code",
      "source": [
        "len(folder)"
      ],
      "metadata": {
        "colab": {
          "base_uri": "https://localhost:8080/"
        },
        "id": "TxWePQ04vWG0",
        "outputId": "d05f8f0a-44cc-45a0-db6a-3628a67b5bc1"
      },
      "execution_count": 72,
      "outputs": [
        {
          "output_type": "execute_result",
          "data": {
            "text/plain": [
              "2"
            ]
          },
          "metadata": {},
          "execution_count": 72
        }
      ]
    },
    {
      "cell_type": "code",
      "source": [
        "model = Sequential()\n",
        "\n",
        "model.add(vgg16)\n",
        "model.add(Flatten())\n",
        "model.add(Dense(256,activation='relu'))\n",
        "model.add(Dense(2,activation='softmax'))"
      ],
      "metadata": {
        "id": "az2MrlO7vcfE"
      },
      "execution_count": 73,
      "outputs": []
    },
    {
      "cell_type": "code",
      "execution_count": 74,
      "metadata": {
        "colab": {
          "base_uri": "https://localhost:8080/"
        },
        "id": "pCbQyhRloQpG",
        "outputId": "d25e233e-6370-4bea-c391-9e52bf2a8280"
      },
      "outputs": [
        {
          "output_type": "stream",
          "name": "stdout",
          "text": [
            "Model: \"sequential_2\"\n",
            "_________________________________________________________________\n",
            " Layer (type)                Output Shape              Param #   \n",
            "=================================================================\n",
            " vgg16 (Functional)          (None, 7, 7, 512)         14714688  \n",
            "                                                                 \n",
            " flatten_2 (Flatten)         (None, 25088)             0         \n",
            "                                                                 \n",
            " dense_4 (Dense)             (None, 256)               6422784   \n",
            "                                                                 \n",
            " dense_5 (Dense)             (None, 2)                 514       \n",
            "                                                                 \n",
            "=================================================================\n",
            "Total params: 21,137,986\n",
            "Trainable params: 6,423,298\n",
            "Non-trainable params: 14,714,688\n",
            "_________________________________________________________________\n"
          ]
        }
      ],
      "source": [
        "# view the structure of the model\n",
        "model.summary()"
      ]
    },
    {
      "cell_type": "code",
      "execution_count": 75,
      "metadata": {
        "id": "_v9RaVP0oQpG"
      },
      "outputs": [],
      "source": [
        "# tell the model what cost and optimization method to use\n",
        "model.compile(\n",
        "  loss='categorical_crossentropy',\n",
        "  optimizer='adam',\n",
        "  metrics=['accuracy']\n",
        ")\n"
      ]
    },
    {
      "cell_type": "code",
      "execution_count": 76,
      "metadata": {
        "id": "ccGtjaZBoQpH"
      },
      "outputs": [],
      "source": [
        "# Use the Image Data Generator to import the images from the dataset\n",
        "from tensorflow.keras.preprocessing.image import ImageDataGenerator\n",
        "\n",
        "train_datagen = ImageDataGenerator(rescale = 1./255,\n",
        "                                   shear_range = 0.2,\n",
        "                                   zoom_range = 0.2,\n",
        "                                   horizontal_flip = True)\n",
        "\n",
        "test_datagen = ImageDataGenerator(rescale = 1./255)"
      ]
    },
    {
      "cell_type": "code",
      "source": [
        "!pwd"
      ],
      "metadata": {
        "colab": {
          "base_uri": "https://localhost:8080/"
        },
        "id": "QRP78ABJbyRt",
        "outputId": "d723c5c1-68c0-4a0e-e4b9-bbfc8f29e0d9"
      },
      "execution_count": 77,
      "outputs": [
        {
          "output_type": "stream",
          "name": "stdout",
          "text": [
            "/content/drive/MyDrive/project_catdog\n"
          ]
        }
      ]
    },
    {
      "cell_type": "code",
      "execution_count": 79,
      "metadata": {
        "colab": {
          "base_uri": "https://localhost:8080/"
        },
        "id": "as_UVGKeoQpH",
        "outputId": "e61f7a1f-f5e9-41e1-8248-63c959dfb08e"
      },
      "outputs": [
        {
          "output_type": "stream",
          "name": "stdout",
          "text": [
            "Found 337 images belonging to 2 classes.\n"
          ]
        }
      ],
      "source": [
        "# Make sure you provide the same target size as initialied for the image size\n",
        "training_set = train_datagen.flow_from_directory('train',\n",
        "                                                 target_size = (224, 224),\n",
        "                                                 batch_size = 32,\n",
        "                                                 class_mode = 'categorical')"
      ]
    },
    {
      "cell_type": "code",
      "execution_count": 80,
      "metadata": {
        "colab": {
          "base_uri": "https://localhost:8080/"
        },
        "id": "TGVUtA-8oQpH",
        "outputId": "b511e8a9-e13c-4b26-b106-6d2562371cd9"
      },
      "outputs": [
        {
          "output_type": "stream",
          "name": "stdout",
          "text": [
            "Found 59 images belonging to 2 classes.\n"
          ]
        }
      ],
      "source": [
        "test_set = test_datagen.flow_from_directory('validation',\n",
        "                                            target_size = (224, 224),\n",
        "                                            batch_size = 32,\n",
        "                                            class_mode = 'categorical')"
      ]
    },
    {
      "cell_type": "code",
      "execution_count": 81,
      "metadata": {
        "scrolled": true,
        "colab": {
          "base_uri": "https://localhost:8080/"
        },
        "id": "JbP-SQBhoQpH",
        "outputId": "d43e9286-dc5a-4e6e-868b-b48b25d7f8ba"
      },
      "outputs": [
        {
          "output_type": "stream",
          "name": "stdout",
          "text": [
            "Epoch 1/10\n",
            "11/11 [==============================] - 56s 4s/step - loss: 3.2691 - accuracy: 0.4866 - val_loss: 0.8101 - val_accuracy: 0.5254\n",
            "Epoch 2/10\n",
            "11/11 [==============================] - 6s 591ms/step - loss: 0.4973 - accuracy: 0.7418 - val_loss: 0.5030 - val_accuracy: 0.7627\n",
            "Epoch 3/10\n",
            "11/11 [==============================] - 5s 482ms/step - loss: 0.2423 - accuracy: 0.9139 - val_loss: 0.3623 - val_accuracy: 0.8475\n",
            "Epoch 4/10\n",
            "11/11 [==============================] - 6s 561ms/step - loss: 0.1818 - accuracy: 0.9525 - val_loss: 0.3448 - val_accuracy: 0.8475\n",
            "Epoch 5/10\n",
            "11/11 [==============================] - 5s 474ms/step - loss: 0.1425 - accuracy: 0.9407 - val_loss: 0.3751 - val_accuracy: 0.8305\n",
            "Epoch 6/10\n",
            "11/11 [==============================] - 6s 508ms/step - loss: 0.1088 - accuracy: 0.9674 - val_loss: 0.4009 - val_accuracy: 0.8136\n",
            "Epoch 7/10\n",
            "11/11 [==============================] - 6s 542ms/step - loss: 0.0849 - accuracy: 0.9733 - val_loss: 0.4181 - val_accuracy: 0.8305\n",
            "Epoch 8/10\n",
            "11/11 [==============================] - 5s 477ms/step - loss: 0.0591 - accuracy: 0.9881 - val_loss: 0.4123 - val_accuracy: 0.8136\n",
            "Epoch 9/10\n",
            "11/11 [==============================] - 6s 582ms/step - loss: 0.0365 - accuracy: 1.0000 - val_loss: 0.4460 - val_accuracy: 0.8136\n",
            "Epoch 10/10\n",
            "11/11 [==============================] - 5s 467ms/step - loss: 0.0361 - accuracy: 0.9970 - val_loss: 0.4978 - val_accuracy: 0.8136\n"
          ]
        }
      ],
      "source": [
        "# fit the model\n",
        "# Run the cell. It will take some time to execute\n",
        "r = model.fit(\n",
        "  training_set,\n",
        "  validation_data=test_set,\n",
        "  epochs=10,\n",
        "  steps_per_epoch=len(training_set),\n",
        "  validation_steps=len(test_set)\n",
        ")"
      ]
    },
    {
      "cell_type": "code",
      "execution_count": 82,
      "metadata": {
        "id": "o1Ko1dSsoQpI"
      },
      "outputs": [],
      "source": [
        "import matplotlib.pyplot as plt"
      ]
    },
    {
      "cell_type": "code",
      "source": [
        "# plot the loss\n",
        "plt.plot(r.history['loss'], label='train loss')\n",
        "plt.plot(r.history['val_loss'], label='val loss')\n",
        "plt.legend()\n",
        "plt.show()\n",
        "plt.savefig('LossVal_loss')"
      ],
      "metadata": {
        "colab": {
          "base_uri": "https://localhost:8080/",
          "height": 282
        },
        "id": "7vQo-eqrxD8N",
        "outputId": "f461c35a-159f-41e5-d3b8-317b8c77a103"
      },
      "execution_count": 83,
      "outputs": [
        {
          "output_type": "display_data",
          "data": {
            "text/plain": [
              "<Figure size 432x288 with 1 Axes>"
            ],
            "image/png": "[encoded data removed]"
          },
          "metadata": {
            "needs_background": "light"
          }
        },
        {
          "output_type": "display_data",
          "data": {
            "text/plain": [
              "<Figure size 432x288 with 0 Axes>"
            ]
          },
          "metadata": {}
        }
      ]
    },
    {
      "cell_type": "code",
      "execution_count": 84,
      "metadata": {
        "colab": {
          "base_uri": "https://localhost:8080/",
          "height": 282
        },
        "id": "4qCxYaAPoQpI",
        "outputId": "b5ddc8ea-cb20-4ba3-a6f1-63138176ad76"
      },
      "outputs": [
        {
          "output_type": "display_data",
          "data": {
            "text/plain": [
              "<Figure size 432x288 with 1 Axes>"
            ],
            "image/png": "[encoded data removed]"
          },
          "metadata": {
            "needs_background": "light"
          }
        },
        {
          "output_type": "display_data",
          "data": {
            "text/plain": [
              "<Figure size 432x288 with 0 Axes>"
            ]
          },
          "metadata": {}
        }
      ],
      "source": [
        "# plot the accuracy\n",
        "plt.plot(r.history['accuracy'], label='train acc')\n",
        "plt.plot(r.history['val_accuracy'], label='val acc')\n",
        "plt.legend()\n",
        "plt.show()\n",
        "plt.savefig('AccVal_acc')"
      ]
    },
    {
      "cell_type": "code",
      "execution_count": 85,
      "metadata": {
        "id": "COqsN_kDoQpI"
      },
      "outputs": [],
      "source": [
        "# save it as a h5 file\n",
        "from tensorflow.keras.models import load_model\n",
        "\n",
        "model.save('model_vgg16.h5')"
      ]
    },
    {
      "cell_type": "code",
      "execution_count": 86,
      "metadata": {
        "colab": {
          "base_uri": "https://localhost:8080/"
        },
        "id": "x4D5sLfpoQpI",
        "outputId": "4b725e8f-b422-4e38-9d44-56c25deb2700"
      },
      "outputs": [
        {
          "output_type": "stream",
          "name": "stdout",
          "text": [
            "2/2 [==============================] - 0s 148ms/step\n"
          ]
        }
      ],
      "source": [
        "y_pred = model.predict(test_set)"
      ]
    },
    {
      "cell_type": "code",
      "execution_count": 87,
      "metadata": {
        "colab": {
          "base_uri": "https://localhost:8080/"
        },
        "id": "wtlfFRrRoQpI",
        "outputId": "64bf32ef-c090-489e-d2a5-ac5210aa99b4"
      },
      "outputs": [
        {
          "output_type": "execute_result",
          "data": {
            "text/plain": [
              "array([[1.01244524e-01, 8.98755491e-01],\n",
              "       [6.00268140e-06, 9.99994040e-01],\n",
              "       [9.27995741e-01, 7.20042661e-02],\n",
              "       [9.99833226e-01, 1.66721438e-04],\n",
              "       [9.96979773e-01, 3.02017853e-03],\n",
              "       [3.63293756e-03, 9.96367097e-01],\n",
              "       [9.99310613e-01, 6.89336506e-04],\n",
              "       [5.48458882e-02, 9.45154130e-01],\n",
              "       [1.28399261e-04, 9.99871612e-01],\n",
              "       [9.96756852e-01, 3.24313389e-03],\n",
              "       [2.96192378e-01, 7.03807652e-01],\n",
              "       [7.49247193e-01, 2.50752836e-01],\n",
              "       [7.08473322e-04, 9.99291539e-01],\n",
              "       [2.73174886e-03, 9.97268319e-01],\n",
              "       [8.62443089e-01, 1.37556940e-01],\n",
              "       [9.76719618e-01, 2.32804082e-02],\n",
              "       [1.54164518e-04, 9.99845862e-01],\n",
              "       [8.30138266e-01, 1.69861719e-01],\n",
              "       [1.70368435e-06, 9.99998331e-01],\n",
              "       [9.31253016e-01, 6.87470362e-02],\n",
              "       [9.87443030e-01, 1.25569711e-02],\n",
              "       [6.48491904e-02, 9.35150862e-01],\n",
              "       [8.92555062e-03, 9.91074502e-01],\n",
              "       [9.96861219e-01, 3.13875405e-03],\n",
              "       [2.14080423e-01, 7.85919607e-01],\n",
              "       [9.96220887e-01, 3.77914752e-03],\n",
              "       [4.12284940e-01, 5.87715089e-01],\n",
              "       [2.80848369e-02, 9.71915245e-01],\n",
              "       [3.97878030e-05, 9.99960184e-01],\n",
              "       [9.33066249e-01, 6.69337586e-02],\n",
              "       [9.90418613e-01, 9.58140288e-03],\n",
              "       [9.98892605e-01, 1.10741379e-03],\n",
              "       [5.66229783e-03, 9.94337738e-01],\n",
              "       [1.66830625e-02, 9.83316958e-01],\n",
              "       [1.00643290e-02, 9.89935696e-01],\n",
              "       [9.99062479e-01, 9.37590667e-04],\n",
              "       [7.31366575e-02, 9.26863313e-01],\n",
              "       [9.87490833e-01, 1.25091393e-02],\n",
              "       [9.92665827e-01, 7.33421557e-03],\n",
              "       [1.00196540e-01, 8.99803400e-01],\n",
              "       [5.27684629e-01, 4.72315341e-01],\n",
              "       [1.82901378e-04, 9.99817073e-01],\n",
              "       [9.97115731e-01, 2.88427738e-03],\n",
              "       [9.65467811e-01, 3.45322452e-02],\n",
              "       [9.90164459e-01, 9.83556267e-03],\n",
              "       [9.36361924e-02, 9.06363785e-01],\n",
              "       [1.56450715e-05, 9.99984384e-01],\n",
              "       [9.63542998e-01, 3.64570245e-02],\n",
              "       [9.95307386e-01, 4.69262293e-03],\n",
              "       [2.23002881e-01, 7.76997089e-01],\n",
              "       [6.71853963e-03, 9.93281484e-01],\n",
              "       [3.75778936e-02, 9.62422132e-01],\n",
              "       [8.27501297e-01, 1.72498763e-01],\n",
              "       [4.59596861e-10, 1.00000000e+00],\n",
              "       [5.20807266e-01, 4.79192734e-01],\n",
              "       [8.60579789e-01, 1.39420211e-01],\n",
              "       [9.99863863e-01, 1.36089264e-04],\n",
              "       [9.99590933e-01, 4.09103901e-04],\n",
              "       [3.90645117e-02, 9.60935473e-01]], dtype=float32)"
            ]
          },
          "metadata": {},
          "execution_count": 87
        }
      ],
      "source": [
        "y_pred"
      ]
    },
    {
      "cell_type": "code",
      "execution_count": 88,
      "metadata": {
        "id": "C-ICKy-5oQpJ"
      },
      "outputs": [],
      "source": [
        "import numpy as np\n",
        "y_pred = np.argmax(y_pred, axis=1)"
      ]
    },
    {
      "cell_type": "code",
      "execution_count": 89,
      "metadata": {
        "colab": {
          "base_uri": "https://localhost:8080/"
        },
        "id": "-GDhHDksoQpJ",
        "outputId": "87a94835-afd5-4a90-a3c6-60a2462aac00"
      },
      "outputs": [
        {
          "output_type": "execute_result",
          "data": {
            "text/plain": [
              "array([1, 1, 0, 0, 0, 1, 0, 1, 1, 0, 1, 0, 1, 1, 0, 0, 1, 0, 1, 0, 0, 1,\n",
              "       1, 0, 1, 0, 1, 1, 1, 0, 0, 0, 1, 1, 1, 0, 1, 0, 0, 1, 0, 1, 0, 0,\n",
              "       0, 1, 1, 0, 0, 1, 1, 1, 0, 1, 0, 0, 0, 0, 1])"
            ]
          },
          "metadata": {},
          "execution_count": 89
        }
      ],
      "source": [
        "y_pred"
      ]
    },
    {
      "cell_type": "code",
      "execution_count": 90,
      "metadata": {
        "id": "kqj7Au6FoQpJ"
      },
      "outputs": [],
      "source": [
        "from tensorflow.keras.models import load_model\n",
        "from tensorflow.keras.preprocessing import image"
      ]
    },
    {
      "cell_type": "code",
      "execution_count": 91,
      "metadata": {
        "id": "XL0M50cToQpJ"
      },
      "outputs": [],
      "source": [
        "model=load_model('model_vgg16.h5')"
      ]
    },
    {
      "cell_type": "code",
      "execution_count": 92,
      "metadata": {
        "id": "1LximTFLoQpJ",
        "colab": {
          "base_uri": "https://localhost:8080/",
          "height": 305
        },
        "outputId": "ff0a53d6-3eb0-4be2-bd9d-3f38ad9ab645"
      },
      "outputs": [
        {
          "output_type": "error",
          "ename": "FileNotFoundError",
          "evalue": "ignored",
          "traceback": [
            "\u001b[0;31m---------------------------------------------------------------------------\u001b[0m",
            "\u001b[0;31mFileNotFoundError\u001b[0m                         Traceback (most recent call last)",
            "\u001b[0;32m<ipython-input-92-61be25bc3334>\u001b[0m in \u001b[0;36m<module>\u001b[0;34m\u001b[0m\n\u001b[0;32m----> 1\u001b[0;31m \u001b[0mimg\u001b[0m\u001b[0;34m=\u001b[0m\u001b[0mimage\u001b[0m\u001b[0;34m.\u001b[0m\u001b[0mload_img\u001b[0m\u001b[0;34m(\u001b[0m\u001b[0;34m'cat.jpg'\u001b[0m\u001b[0;34m,\u001b[0m\u001b[0mtarget_size\u001b[0m\u001b[0;34m=\u001b[0m\u001b[0;34m(\u001b[0m\u001b[0;36m224\u001b[0m\u001b[0;34m,\u001b[0m\u001b[0;36m224\u001b[0m\u001b[0;34m)\u001b[0m\u001b[0;34m)\u001b[0m\u001b[0;34m\u001b[0m\u001b[0;34m\u001b[0m\u001b[0m\n\u001b[0m",
            "\u001b[0;32m/usr/local/lib/python3.9/dist-packages/keras/utils/image_utils.py\u001b[0m in \u001b[0;36mload_img\u001b[0;34m(path, grayscale, color_mode, target_size, interpolation, keep_aspect_ratio)\u001b[0m\n\u001b[1;32m    420\u001b[0m         \u001b[0;32mif\u001b[0m \u001b[0misinstance\u001b[0m\u001b[0;34m(\u001b[0m\u001b[0mpath\u001b[0m\u001b[0;34m,\u001b[0m \u001b[0mpathlib\u001b[0m\u001b[0;34m.\u001b[0m\u001b[0mPath\u001b[0m\u001b[0;34m)\u001b[0m\u001b[0;34m:\u001b[0m\u001b[0;34m\u001b[0m\u001b[0;34m\u001b[0m\u001b[0m\n\u001b[1;32m    421\u001b[0m             \u001b[0mpath\u001b[0m \u001b[0;34m=\u001b[0m \u001b[0mstr\u001b[0m\u001b[0;34m(\u001b[0m\u001b[0mpath\u001b[0m\u001b[0;34m.\u001b[0m\u001b[0mresolve\u001b[0m\u001b[0;34m(\u001b[0m\u001b[0;34m)\u001b[0m\u001b[0;34m)\u001b[0m\u001b[0;34m\u001b[0m\u001b[0;34m\u001b[0m\u001b[0m\n\u001b[0;32m--> 422\u001b[0;31m         \u001b[0;32mwith\u001b[0m \u001b[0mopen\u001b[0m\u001b[0;34m(\u001b[0m\u001b[0mpath\u001b[0m\u001b[0;34m,\u001b[0m \u001b[0;34m\"rb\"\u001b[0m\u001b[0;34m)\u001b[0m \u001b[0;32mas\u001b[0m \u001b[0mf\u001b[0m\u001b[0;34m:\u001b[0m\u001b[0;34m\u001b[0m\u001b[0;34m\u001b[0m\u001b[0m\n\u001b[0m\u001b[1;32m    423\u001b[0m             \u001b[0mimg\u001b[0m \u001b[0;34m=\u001b[0m \u001b[0mpil_image\u001b[0m\u001b[0;34m.\u001b[0m\u001b[0mopen\u001b[0m\u001b[0;34m(\u001b[0m\u001b[0mio\u001b[0m\u001b[0;34m.\u001b[0m\u001b[0mBytesIO\u001b[0m\u001b[0;34m(\u001b[0m\u001b[0mf\u001b[0m\u001b[0;34m.\u001b[0m\u001b[0mread\u001b[0m\u001b[0;34m(\u001b[0m\u001b[0;34m)\u001b[0m\u001b[0;34m)\u001b[0m\u001b[0;34m)\u001b[0m\u001b[0;34m\u001b[0m\u001b[0;34m\u001b[0m\u001b[0m\n\u001b[1;32m    424\u001b[0m     \u001b[0;32melse\u001b[0m\u001b[0;34m:\u001b[0m\u001b[0;34m\u001b[0m\u001b[0;34m\u001b[0m\u001b[0m\n",
            "\u001b[0;31mFileNotFoundError\u001b[0m: [Errno 2] No such file or directory: 'cat.jpg'"
          ]
        }
      ],
      "source": [
        "img=image.load_img('cat.jpg',target_size=(224,224))"
      ]
    },
    {
      "cell_type": "code",
      "execution_count": 93,
      "metadata": {
        "colab": {
          "base_uri": "https://localhost:8080/",
          "height": 183
        },
        "id": "MCqIwjCioQpJ",
        "outputId": "f277f25a-a536-474d-a1a3-90a02c9f7970"
      },
      "outputs": [
        {
          "output_type": "error",
          "ename": "NameError",
          "evalue": "ignored",
          "traceback": [
            "\u001b[0;31m---------------------------------------------------------------------------\u001b[0m",
            "\u001b[0;31mNameError\u001b[0m                                 Traceback (most recent call last)",
            "\u001b[0;32m<ipython-input-93-9ec0ccb6f987>\u001b[0m in \u001b[0;36m<module>\u001b[0;34m\u001b[0m\n\u001b[0;32m----> 1\u001b[0;31m \u001b[0mx\u001b[0m\u001b[0;34m=\u001b[0m\u001b[0mimage\u001b[0m\u001b[0;34m.\u001b[0m\u001b[0mimg_to_array\u001b[0m\u001b[0;34m(\u001b[0m\u001b[0mimg\u001b[0m\u001b[0;34m)\u001b[0m\u001b[0;34m\u001b[0m\u001b[0;34m\u001b[0m\u001b[0m\n\u001b[0m\u001b[1;32m      2\u001b[0m \u001b[0mx\u001b[0m\u001b[0;34m\u001b[0m\u001b[0;34m\u001b[0m\u001b[0m\n",
            "\u001b[0;31mNameError\u001b[0m: name 'img' is not defined"
          ]
        }
      ],
      "source": [
        "x=image.img_to_array(img)\n",
        "x"
      ]
    },
    {
      "cell_type": "code",
      "source": [
        "Z = plt.imread('cat.jpg')\n",
        "plt.imshow(Z)"
      ],
      "metadata": {
        "id": "ndGBT7Ns1xED"
      },
      "execution_count": null,
      "outputs": []
    },
    {
      "cell_type": "code",
      "execution_count": null,
      "metadata": {
        "id": "XcmlehPvoQpJ"
      },
      "outputs": [],
      "source": [
        "x.shape"
      ]
    },
    {
      "cell_type": "code",
      "execution_count": null,
      "metadata": {
        "id": "-JxBg8BuoQpK"
      },
      "outputs": [],
      "source": [
        "x=x/255"
      ]
    },
    {
      "cell_type": "code",
      "source": [
        "from keras.applications.vgg16 import preprocess_input"
      ],
      "metadata": {
        "id": "j76htW2Myj1v"
      },
      "execution_count": null,
      "outputs": []
    },
    {
      "cell_type": "code",
      "execution_count": null,
      "metadata": {
        "id": "4TPPbmbpoQpK"
      },
      "outputs": [],
      "source": [
        "import numpy as np\n",
        "x=np.expand_dims(x,axis=0)\n",
        "img_data=preprocess_input(x)\n",
        "img_data.shape"
      ]
    },
    {
      "cell_type": "code",
      "execution_count": null,
      "metadata": {
        "id": "YycqMzQMoQpK"
      },
      "outputs": [],
      "source": [
        "model.predict(img_data)"
      ]
    },
    {
      "cell_type": "code",
      "execution_count": null,
      "metadata": {
        "id": "JCnpd8rCoQpK"
      },
      "outputs": [],
      "source": [
        "result = np.argmax(model.predict(img_data), axis=1)"
      ]
    },
    {
      "cell_type": "code",
      "execution_count": null,
      "metadata": {
        "id": "N0olnSIooQpK"
      },
      "outputs": [],
      "source": [
        "result[0]"
      ]
    },
    {
      "cell_type": "code",
      "execution_count": null,
      "metadata": {
        "id": "w2J4Puf3oQpK"
      },
      "outputs": [],
      "source": [
        "if result[0] == 1:\n",
        "    prediction = 'dog'\n",
        "    print(prediction)\n",
        "else:\n",
        "    prediction = 'cat'\n",
        "    print(prediction)"
      ]
    },
    {
      "cell_type": "code",
      "source": [],
      "metadata": {
        "id": "WYXzJO0l0wB1"
      },
      "execution_count": null,
      "outputs": []
    }
  ],
  "metadata": {
    "kernelspec": {
      "display_name": "Python 3",
      "language": "python",
      "name": "python3"
    },
    "language_info": {
      "codemirror_mode": {
        "name": "ipython",
        "version": 3
      },
      "file_extension": ".py",
      "mimetype": "text/x-python",
      "name": "python",
      "nbconvert_exporter": "python",
      "pygments_lexer": "ipython3",
      "version": "3.7.7"
    },
    "colab": {
      "provenance": [],
      "machine_shape": "hm",
      "include_colab_link": true
    },
    "accelerator": "GPU",
    "gpuClass": "standard"
  },
  "nbformat": 4,
  "nbformat_minor": 0
}